{
  "nbformat": 4,
  "nbformat_minor": 0,
  "metadata": {
    "colab": {
      "provenance": [],
      "authorship_tag": "ABX9TyPQrj3WbodQ7lYzP20lZrk0"
    },
    "kernelspec": {
      "name": "python3",
      "display_name": "Python 3"
    },
    "language_info": {
      "name": "python"
    }
  },
  "cells": [
    {
      "cell_type": "markdown",
      "source": [
        "01 Prepare Spark environment"
      ],
      "metadata": {
        "id": "SVD5KXYYpHJq"
      }
    },
    {
      "cell_type": "code",
      "execution_count": null,
      "metadata": {
        "colab": {
          "base_uri": "https://localhost:8080/"
        },
        "id": "Z9QaujqZryOQ",
        "outputId": "534960e1-8cf7-44f6-cd57-3d18b603c0b7"
      },
      "outputs": [
        {
          "output_type": "stream",
          "name": "stdout",
          "text": [
            "Looking in indexes: https://pypi.org/simple, https://us-python.pkg.dev/colab-wheels/public/simple/\n",
            "Collecting pyspark\n",
            "  Downloading pyspark-3.4.0.tar.gz (310.8 MB)\n",
            "\u001b[2K     \u001b[90m━━━━━━━━━━━━━━━━━━━━━━━━━━━━━━━━━━━━━━━\u001b[0m \u001b[32m310.8/310.8 MB\u001b[0m \u001b[31m4.1 MB/s\u001b[0m eta \u001b[36m0:00:00\u001b[0m\n",
            "\u001b[?25h  Preparing metadata (setup.py) ... \u001b[?25l\u001b[?25hdone\n",
            "Requirement already satisfied: py4j==0.10.9.7 in /usr/local/lib/python3.10/dist-packages (from pyspark) (0.10.9.7)\n",
            "Building wheels for collected packages: pyspark\n",
            "  Building wheel for pyspark (setup.py) ... \u001b[?25l\u001b[?25hdone\n",
            "  Created wheel for pyspark: filename=pyspark-3.4.0-py2.py3-none-any.whl size=311317130 sha256=f19645a4a3e9bae4fd45a107c1e94184d902e2a00d38a0c22747861a7c694897\n",
            "  Stored in directory: /root/.cache/pip/wheels/7b/1b/4b/3363a1d04368e7ff0d408e57ff57966fcdf00583774e761327\n",
            "Successfully built pyspark\n",
            "Installing collected packages: pyspark\n",
            "Successfully installed pyspark-3.4.0\n"
          ]
        }
      ],
      "source": [
        "!pip install pyspark"
      ]
    },
    {
      "cell_type": "code",
      "source": [
        "from pyspark.sql import SparkSession\n",
        "from pyspark import SparkContext\n",
        "\n",
        "spark = SparkSession.builder.master(\"local\").getOrCreate()\n",
        "sc = SparkContext.getOrCreate()"
      ],
      "metadata": {
        "id": "usSBtgjhsN_Z"
      },
      "execution_count": null,
      "outputs": []
    },
    {
      "cell_type": "code",
      "source": [
        "rdd = sc.parallelize([\"Hello Spark\"])\n",
        "\n",
        "# Test whether pyspark is successfully installed\n",
        "counts = rdd.flatMap(lambda line: line.split(\" \")) \\\n",
        "    .map(lambda word: (word, 1)) \\\n",
        "    .reduceByKey(lambda a, b: a + b) \\\n",
        "    .collect()\n",
        "print(counts)"
      ],
      "metadata": {
        "colab": {
          "base_uri": "https://localhost:8080/"
        },
        "id": "eD_M5tuvsWxK",
        "outputId": "6ca9335e-ef1a-4a0b-df89-317ce4b9ca37"
      },
      "execution_count": null,
      "outputs": [
        {
          "output_type": "stream",
          "name": "stdout",
          "text": [
            "[('Hello', 1), ('Spark', 1)]\n"
          ]
        }
      ]
    },
    {
      "cell_type": "markdown",
      "source": [
        "02 Connect to dataset in Google Drive, load and show the attached datafile "
      ],
      "metadata": {
        "id": "gOjvMFUApec6"
      }
    },
    {
      "cell_type": "code",
      "source": [
        "# mount Google Drive\n",
        "from google.colab import drive\n",
        "drive.mount('/content/drive')\n",
        "\n",
        "!ls \"/content/drive/My Drive/Colab Notebooks\""
      ],
      "metadata": {
        "colab": {
          "base_uri": "https://localhost:8080/"
        },
        "id": "q2_R9-Yo0RlG",
        "outputId": "e6eb2265-a5b6-4c43-bdb4-dec3b3ee9bf7"
      },
      "execution_count": null,
      "outputs": [
        {
          "output_type": "stream",
          "name": "stdout",
          "text": [
            "Mounted at /content/drive\n",
            "'Copy of Drive FUSE example.ipynb'\n",
            " position-des-bus-en-circulation-sur-le-reseau-star-en-temps-reel.csv\n",
            " Pyspark01.ipynb\n"
          ]
        }
      ]
    },
    {
      "cell_type": "code",
      "source": [
        "# Reading csv dataset \n",
        "df = spark.read.csv('/content/drive/My Drive/Colab Notebooks/\\\n",
        "position-des-bus-en-circulation-sur-le-reseau-star-en-temps-reel.csv', header=True, sep=';', inferSchema=True)\n",
        "\n",
        "# show the dataframe\n",
        "df.show()\n",
        "df.columns"
      ],
      "metadata": {
        "colab": {
          "base_uri": "https://localhost:8080/"
        },
        "id": "P6QZ4pzf8Bj2",
        "outputId": "6e534a44-02f9-43b7-b5ee-f770ebedd2c0"
      },
      "execution_count": null,
      "outputs": [
        {
          "output_type": "stream",
          "name": "stdout",
          "text": [
            "+----------+------------+------------+----------+-----------------+------------+--------------------+-------------------+---------------+\n",
            "|  Bus (ID)|Bus (numéro)|        Etat|Ligne (ID)|Ligne (nom court)|Code du sens|         Destination|        Coordonnées|Avance / Retard|\n",
            "+----------+------------+------------+----------+-----------------+------------+--------------------+-------------------+---------------+\n",
            "| 149722672|   149722672|    En ligne|         5|               C5|           1|              Patton|48.126706,-1.665295|           1218|\n",
            "| 146720212|   146720212|Hors-service|      null|             null|        null|                null|48.110314,-1.642594|           null|\n",
            "|1205787936|  1205787936|Hors-service|      null|             null|        null|                null|48.110638,-1.642596|           null|\n",
            "| 100682492|   100682492|    En ligne|        34|               34|           0|           Chantepie|48.099402,-1.620724|            -54|\n",
            "|1203586132|  1203586132|Hors-service|      null|             null|        null|                null|48.146719,-1.706516|           null|\n",
            "| 166536448|   166536448|     Inconnu|        57|               57|           1|              Rennes|  48.10432,-1.67107|           null|\n",
            "| 144718572|   144718572|     Inconnu|         4|               C4|           1|    ZA Saint-Sulpice|48.119439,-1.688266|           null|\n",
            "| 122100040|   122100040|    En ligne|       153|            153ex|           0|         L'Hermitage| 48.12315,-1.805114|             49|\n",
            "| 180347764|   180347764|    En ligne|        72|               72|           1|              Rennes|47.999996,-1.696828|              0|\n",
            "| 144918736|   144918736|    En ligne|         1|               C1|           1|       Champs Blancs|48.104342,-1.670076|           1655|\n",
            "| 122300204|   122300204|    En ligne|        53|               53|           0|La Chapelle-Thoua...|48.116172,-1.709381|           1202|\n",
            "| 180547928|   180547928|Hors-service|      null|             null|        null|                null|48.099681,-1.632671|           null|\n",
            "|1203786296|  1203786296|Hors-service|      null|             null|        null|                null|48.146956,-1.706672|           null|\n",
            "| 122500368|   122500368|    En ligne|        59|               59|           1|              Rennes|48.023382,-1.736128|             39|\n",
            "| 180748092|   180748092|Hors-service|      null|             null|        null|                null| 48.10992,-1.641147|           null|\n",
            "| 122700532|   122700532|    En ligne|       157|            157ex|           0|         Bruz Centre|48.030553,-1.759458|           -116|\n",
            "| 122900696|   122900696|    En ligne|       159|            159ex|           0|                Bruz|48.020942,-1.751458|             45|\n",
            "| 181548748|   181548748|     Inconnu|        40|               40|           0|          République|48.109833,-1.665716|           null|\n",
            "|  65053300|    65053300|    En ligne|       220|              220|           1| Acigné |  Timonière|48.119032,-1.598197|              0|\n",
            "| 140114800|   140114800|    En ligne|         1|               C1|           1|       Champs Blancs|48.135121,-1.620806|           3158|\n",
            "+----------+------------+------------+----------+-----------------+------------+--------------------+-------------------+---------------+\n",
            "only showing top 20 rows\n",
            "\n"
          ]
        },
        {
          "output_type": "execute_result",
          "data": {
            "text/plain": [
              "['Bus (ID)',\n",
              " 'Bus (numéro)',\n",
              " 'Etat',\n",
              " 'Ligne (ID)',\n",
              " 'Ligne (nom court)',\n",
              " 'Code du sens',\n",
              " 'Destination',\n",
              " 'Coordonnées',\n",
              " 'Avance / Retard']"
            ]
          },
          "metadata": {},
          "execution_count": 8
        }
      ]
    },
    {
      "cell_type": "markdown",
      "source": [
        "03 Clean the dataset and export a csv"
      ],
      "metadata": {
        "id": "wHT8JrHfqSvz"
      }
    },
    {
      "cell_type": "code",
      "source": [
        "# importing python reduce\n",
        "from functools import reduce\n",
        "\n",
        "def clean_csv(df, new_columns,path_csv):\n",
        "    \"\"\"clean dataframe into CSV file.\n",
        "\n",
        "    Keyword arguments:\n",
        "    new_columns -- the list of renamed columns\n",
        "    \"\"\"\n",
        "    # updating column name\n",
        "    data = reduce(lambda df, idx: df.withColumnRenamed(df.columns[idx], new_columns[idx]), range(len(df.columns)), df)\n",
        "    data.printSchema()\n",
        "    \n",
        "    # output with CSV options : comma\n",
        "    data.write.options(header='True', delimiter=',') \\\n",
        "        .csv(path_csv)\n",
        "    return data\n",
        "\n",
        "# TODO: translate into English\n",
        "new_columns =[\"Bus (ID)\",\"Bus (number)\",\"Status\",\"Line (ID)\",\"Line (short name)\",\"Direction code\",\"Destination\",\"Coordinates\",\"Advance / Delay\"]\n",
        "\n",
        "new_data = clean_csv(df,new_columns,\"/content/drive/My Drive/Colab Notebooks/cleaned-real-time-bus\")\n",
        "\n",
        "!ls \"/content/drive/My Drive/Colab Notebooks/cleaned-real-time-bus\"\n"
      ],
      "metadata": {
        "colab": {
          "base_uri": "https://localhost:8080/"
        },
        "id": "EjX5tPsJALcL",
        "outputId": "0b624306-7565-447c-f277-8ef55c93d35b"
      },
      "execution_count": 16,
      "outputs": [
        {
          "output_type": "stream",
          "name": "stdout",
          "text": [
            "root\n",
            " |-- Bus (ID): integer (nullable = true)\n",
            " |-- Bus (number): integer (nullable = true)\n",
            " |-- Status: string (nullable = true)\n",
            " |-- Line (ID): integer (nullable = true)\n",
            " |-- Line (short name): string (nullable = true)\n",
            " |-- Direction code: integer (nullable = true)\n",
            " |-- Destination: string (nullable = true)\n",
            " |-- Coordinates: string (nullable = true)\n",
            " |-- Advance / Delay: integer (nullable = true)\n",
            "\n",
            "part-00000-ff1db904-c324-42bc-ac9a-aeeeae987ee7-c000.csv  _SUCCESS\n"
          ]
        }
      ]
    },
    {
      "cell_type": "code",
      "source": [],
      "metadata": {
        "id": "5iYzlfPl8EAm"
      },
      "execution_count": null,
      "outputs": []
    }
  ]
}